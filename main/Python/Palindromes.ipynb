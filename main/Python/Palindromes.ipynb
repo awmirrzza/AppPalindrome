{
 "cells": [
  {
   "cell_type": "code",
   "execution_count": 1,
   "metadata": {},
   "outputs": [
    {
     "name": "stdout",
     "output_type": "stream",
     "text": [
      ""
     ]
    }
   ],
   "source": [
    "def check_palindrome(word: str) -> bool:\n",
    "    # Initialize a variable to track if the word is a palindrome\n",
    "    is_palindrome = True\n",
    "    \n",
    "    # Loop through the characters to check for palindrome\n",
    "    for index in range(0, len(word)//2):\n",
    "        # Check if the characters at symmetric positions match\n",
    "        is_palindrome = is_palindrome and word.lower()[index] == word.lower()[-index-1]\n",
    "        \n",
    "    return is_palindrome\n",
    "\n",
    "# Get user input for a word\n",
    "word_input = input('Write a word: ')\n",
    "\n",
    "# Call the function and print the result\n",
    "print(check_palindrome(word_input))\n"
   ]
  },
  {
   "cell_type": "code",
   "execution_count": null,
   "metadata": {},
   "outputs": [],
   "source": []
  }
 ],
 "metadata": {
  "kernelspec": {
   "display_name": "Python 3",
   "language": "python",
   "name": "python3"
  },
  "language_info": {
   "codemirror_mode": {
    "name": "ipython",
    "version": 3
   },
   "file_extension": ".py",
   "mimetype": "text/x-python",
   "name": "python",
   "nbconvert_exporter": "python",
   "pygments_lexer": "ipython3",
   "version": "3.11.5"
  }
 },
 "nbformat": 4,
 "nbformat_minor": 2
}
